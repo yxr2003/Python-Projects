{
 "cells": [
  {
   "cell_type": "markdown",
   "id": "f25fdd3f",
   "metadata": {},
   "source": [
    "# Positional Arguments "
   ]
  },
  {
   "cell_type": "code",
   "execution_count": 2,
   "id": "cae21338",
   "metadata": {},
   "outputs": [
    {
     "name": "stdout",
     "output_type": "stream",
     "text": [
      "Alice is enrolled in Mathematics class.\n"
     ]
    }
   ],
   "source": [
    "def student_information(class_name, student_name):\n",
    "    # Display information about a student and their class.\n",
    "    print(student_name + \" is enrolled in \" + class_name + \" class.\")\n",
    "# Positional arguments:\n",
    "student_information('Mathematics', 'Alice')\n"
   ]
  },
  {
   "cell_type": "code",
   "execution_count": 2,
   "id": "847b3a5f",
   "metadata": {},
   "outputs": [
    {
     "name": "stdout",
     "output_type": "stream",
     "text": [
      "kfc gets good 5 star rate.\n"
     ]
    }
   ],
   "source": [
    "def shop_detail(shop_name, ratings):\n",
    "    print(shop_name + \" gets good \" + ratings + \" rate.\")\n",
    "shop_detail('kfc', '5 star')"
   ]
  },
  {
   "cell_type": "markdown",
   "id": "c9545da5",
   "metadata": {},
   "source": [
    "# Keyword Arguements\n"
   ]
  },
  {
   "cell_type": "code",
   "execution_count": 6,
   "id": "f60bbb81",
   "metadata": {},
   "outputs": [
    {
     "name": "stdout",
     "output_type": "stream",
     "text": [
      "Alice is enrolled in Mathematics class.\n"
     ]
    }
   ],
   "source": [
    "def student_information(class_name, student_name):\n",
    "    # Display information about a student and their class.\n",
    "    print(student_name + \" is enrolled in \" + class_name + \" class.\")\n",
    "# Keyword arguments:\n",
    "student_information(class_name='Mathematics', student_name='Alice')\n",
    "\n"
   ]
  },
  {
   "cell_type": "markdown",
   "id": "43654cdb",
   "metadata": {},
   "source": [
    "# function calling"
   ]
  },
  {
   "cell_type": "code",
   "execution_count": 4,
   "id": "dc0d892a",
   "metadata": {},
   "outputs": [
    {
     "name": "stdout",
     "output_type": "stream",
     "text": [
      "Ahmed is enrolled in Python class.\n"
     ]
    }
   ],
   "source": [
    "student_information(student_name=\"Ahmed\", class_name=\"Python\")"
   ]
  },
  {
   "cell_type": "markdown",
   "id": "62bc2b90",
   "metadata": {},
   "source": [
    "# Default Arguments"
   ]
  },
  {
   "cell_type": "code",
   "execution_count": 5,
   "id": "72b41eb7",
   "metadata": {},
   "outputs": [],
   "source": [
    "def enroll_student(student_name, course='Introduction to Python'):\n",
    "    # Enroll a student in a course with a default option.\n",
    "     print(\"Student Name: \" + student_name)\n",
    "     print(\"Enrolled Course: \" + course)"
   ]
  },
  {
   "cell_type": "code",
   "execution_count": 7,
   "id": "6703e4ca",
   "metadata": {},
   "outputs": [
    {
     "name": "stdout",
     "output_type": "stream",
     "text": [
      "Student Name: Ali\n",
      "Enrolled Course: Introduction to Python\n"
     ]
    }
   ],
   "source": [
    "enroll_student(\"Ali\")"
   ]
  },
  {
   "cell_type": "code",
   "execution_count": 6,
   "id": "36485c40",
   "metadata": {},
   "outputs": [
    {
     "name": "stdout",
     "output_type": "stream",
     "text": [
      "Student Name: Ali\n",
      "Enrolled Course: Physics\n"
     ]
    }
   ],
   "source": [
    "enroll_student(\"Ali\", \"Physics\")"
   ]
  },
  {
   "cell_type": "markdown",
   "id": "e5ba7076",
   "metadata": {},
   "source": [
    "# variable Length Arguments*"
   ]
  },
  {
   "cell_type": "code",
   "execution_count": 8,
   "id": "c43a3d28",
   "metadata": {},
   "outputs": [],
   "source": [
    "def enroll_in_courses(student_name, *courses):\n",
    "    # Enroll a student in multiple courses.\n",
    "    print(\"Student: \" + student_name)\n",
    "    print(\"Enrolled in:\")\n",
    "    for course in courses:\n",
    "        print(\"- \" + course)\n"
   ]
  },
  {
   "cell_type": "code",
   "execution_count": 9,
   "id": "49170851",
   "metadata": {},
   "outputs": [
    {
     "name": "stdout",
     "output_type": "stream",
     "text": [
      "Student: XuanRu\n",
      "Enrolled in:\n",
      "- Python\n",
      "- Chemistry 101\n",
      "- Physics 101\n"
     ]
    }
   ],
   "source": [
    "enroll_in_courses('XuanRu', 'Python', 'Chemistry 101', 'Physics 101')\n"
   ]
  },
  {
   "cell_type": "code",
   "execution_count": 15,
   "id": "3c6f025b",
   "metadata": {},
   "outputs": [],
   "source": [
    "def foodie(peeps, *food):\n",
    "    # Enroll a student in multiple courses.\n",
    "    print(\"Name: \" + peeps)\n",
    "    print(\"Enjoy:\")\n",
    "    for makanan in food:\n",
    "        print(\"- \" + makanan)\n"
   ]
  },
  {
   "cell_type": "code",
   "execution_count": 16,
   "id": "ea88b0c5",
   "metadata": {},
   "outputs": [
    {
     "name": "stdout",
     "output_type": "stream",
     "text": [
      "Name: XuanRu\n",
      "Enjoy:\n",
      "- Potato\n",
      "- water\n",
      "- plum\n",
      "- chips\n"
     ]
    }
   ],
   "source": [
    "foodie('XuanRu', 'Potato', 'water', 'plum', 'chips')"
   ]
  },
  {
   "cell_type": "markdown",
   "id": "1eb75a9d",
   "metadata": {},
   "source": [
    "# Variable Length Arguments **"
   ]
  },
  {
   "cell_type": "code",
   "execution_count": 10,
   "id": "e3eb7017",
   "metadata": {},
   "outputs": [],
   "source": [
    "def enroll_student(student_name, **details):\n",
    "     # Enroll a student with additional details.\n",
    "    print(\"Enrolling \" + student_name + \" with the following details:\")\n",
    "    for detail, value in details.items():\n",
    "        print(\"- \" + detail.replace('_', ' ').title() + \": \" + str(value))\n",
    "# detail is 'payment_method', detail.replace('_', ' ') will turn it into 'payment method'\n",
    "# The .title() method capitalizes the first letter of each word in the string.'payment method' becomes 'Payment Method'.\n",
    "# str(value) converts the value associated with the detail to a string. This ensures that all values, regardless of their type, can be concatenated into the final string for printing."
   ]
  },
  {
   "cell_type": "code",
   "execution_count": 22,
   "id": "139017eb",
   "metadata": {},
   "outputs": [
    {
     "ename": "NameError",
     "evalue": "name 'enroll_student' is not defined",
     "output_type": "error",
     "traceback": [
      "\u001b[1;31m---------------------------------------------------------------------------\u001b[0m",
      "\u001b[1;31mNameError\u001b[0m                                 Traceback (most recent call last)",
      "Cell \u001b[1;32mIn[22], line 1\u001b[0m\n\u001b[1;32m----> 1\u001b[0m enroll_student(\u001b[38;5;124m'\u001b[39m\u001b[38;5;124mSmith\u001b[39m\u001b[38;5;124m'\u001b[39m, course\u001b[38;5;241m=\u001b[39m\u001b[38;5;124m'\u001b[39m\u001b[38;5;124mAlgebra II\u001b[39m\u001b[38;5;124m'\u001b[39m, semester\u001b[38;5;241m=\u001b[39m\u001b[38;5;124m'\u001b[39m\u001b[38;5;124mOne\u001b[39m\u001b[38;5;124m'\u001b[39m, bayar_method\u001b[38;5;241m=\u001b[39m\u001b[38;5;124m'\u001b[39m\u001b[38;5;124mCredit Card\u001b[39m\u001b[38;5;124m'\u001b[39m)\n",
      "\u001b[1;31mNameError\u001b[0m: name 'enroll_student' is not defined"
     ]
    }
   ],
   "source": [
    "enroll_student('Smith', course='Algebra II', semester='One', bayar_method='Credit Card')\n",
    "#the code is correct when run in new file"
   ]
  },
  {
   "cell_type": "code",
   "execution_count": 7,
   "id": "89a2434a",
   "metadata": {},
   "outputs": [],
   "source": [
    "def enroll_student(student_name, **details):\n",
    "     # Enroll a student with additional details.\n",
    "    print(\"Enrolling \" + student_name + \" with the following details:\")\n",
    "    for key, value in details.items():\n",
    "        print(key + \" = \" + value)"
   ]
  },
  {
   "cell_type": "code",
   "execution_count": 8,
   "id": "5adeea4d",
   "metadata": {},
   "outputs": [
    {
     "name": "stdout",
     "output_type": "stream",
     "text": [
      "Enrolling Smith with the following details:\n",
      "course = Algebra II\n",
      "semester = One\n",
      "payment_method = Credit Card\n",
      "student_age = 22\n"
     ]
    }
   ],
   "source": [
    "enroll_student('Smith', course='Algebra II', semester='One', payment_method='Credit Card', student_age=\"22\")"
   ]
  },
  {
   "cell_type": "code",
   "execution_count": 9,
   "id": "786d5b5b",
   "metadata": {},
   "outputs": [],
   "source": [
    "def enroll_student(student_name, **details):\n",
    "     # Enroll a student with additional details.\n",
    "    print(\"Enrolling \" + student_name + \" with the following details:\")\n",
    "    print(type(details))\n",
    "    "
   ]
  },
  {
   "cell_type": "code",
   "execution_count": 10,
   "id": "a055ed2f",
   "metadata": {},
   "outputs": [
    {
     "name": "stdout",
     "output_type": "stream",
     "text": [
      "Enrolling Smith with the following details:\n",
      "<class 'dict'>\n"
     ]
    }
   ],
   "source": [
    "enroll_student('Smith', course='Algebra II', semester='One', payment_method='Credit Card')"
   ]
  },
  {
   "cell_type": "code",
   "execution_count": 11,
   "id": "cf7d4a64",
   "metadata": {},
   "outputs": [],
   "source": [
    "def enroll_student(student_name, **details):\n",
    "     # Enroll a student with additional details.\n",
    "    print(\"Enrolling \" + student_name + \" with the following details:\")\n",
    "    for key, value in details.items():\n",
    "        print(value)"
   ]
  },
  {
   "cell_type": "code",
   "execution_count": 12,
   "id": "a98bf8bb",
   "metadata": {},
   "outputs": [
    {
     "name": "stdout",
     "output_type": "stream",
     "text": [
      "Enrolling Smith with the following details:\n",
      "Algebra II\n",
      "One\n",
      "Credit Card\n"
     ]
    }
   ],
   "source": [
    "enroll_student('Smith', course='Algebra II', semester='One', payment_method='Credit Card')"
   ]
  },
  {
   "cell_type": "code",
   "execution_count": null,
   "id": "d1dffa99",
   "metadata": {},
   "outputs": [],
   "source": []
  }
 ],
 "metadata": {
  "kernelspec": {
   "display_name": "Python 3 (ipykernel)",
   "language": "python",
   "name": "python3"
  },
  "language_info": {
   "codemirror_mode": {
    "name": "ipython",
    "version": 3
   },
   "file_extension": ".py",
   "mimetype": "text/x-python",
   "name": "python",
   "nbconvert_exporter": "python",
   "pygments_lexer": "ipython3",
   "version": "3.11.5"
  }
 },
 "nbformat": 4,
 "nbformat_minor": 5
}
