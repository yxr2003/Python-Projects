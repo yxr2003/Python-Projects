{
 "cells": [
  {
   "cell_type": "markdown",
   "id": "801d17dc",
   "metadata": {},
   "source": [
    "## Exercise 1"
   ]
  },
  {
   "cell_type": "code",
   "execution_count": 4,
   "id": "236bd178",
   "metadata": {},
   "outputs": [],
   "source": [
    "import csv\n",
    "\n",
    "def filter_students(input_file, output_file):\n",
    "    with open(input_file, mode='r') as file:\n",
    "        csv_reader = csv.DictReader(file)\n",
    "        filtered_students = [student for student in csv_reader if student['Grade'] <= 'B']\n",
    "        \n",
    "    for student in filtered_students:\n",
    "        student['Status'] = 'Passed' if student['Grade'] <= 'B' else 'Failed'\n",
    "        \n",
    "    fieldnames = ['Name', 'Age', 'Grade', 'Status']\n",
    "    with open(output_file, mode='w', newline='') as new_file:\n",
    "        writer = csv.DictWriter(new_file, fieldnames=fieldnames)\n",
    "        \n",
    "        writer.writeheader()\n",
    "        writer.writerows(filtered_students)\n",
    "        \n",
    "input_filename = 'students.csv'\n",
    "output_filename = 'top_students.csv'        \n",
    "        \n",
    "filter_students(input_filename, output_filename)      "
   ]
  },
  {
   "cell_type": "markdown",
   "id": "ff6925ae",
   "metadata": {},
   "source": [
    "## Practice Exercise"
   ]
  },
  {
   "cell_type": "code",
   "execution_count": null,
   "id": "9939ae14",
   "metadata": {},
   "outputs": [
    {
     "name": "stdout",
     "output_type": "stream",
     "text": [
      "Enter the name of a state: JOohor\n",
      "JOohor is not found in the data.\n",
      "Enter the name of a state: Johor\n",
      "Population of Johor: 3794000\n"
     ]
    }
   ],
   "source": [
    "import requests\n",
    "\n",
    "api_url = \"https://jian.sh/malaysia-api/state/v1/all.json\"\n",
    "response = requests.get(api_url)\n",
    "\n",
    "try:\n",
    "    malaysia_state_data = response.json()\n",
    "    \n",
    "    while True:\n",
    "        interest_state = input('Enter the name of a state: ')\n",
    "        \n",
    "        found = False\n",
    "        for state in malaysia_state_data:\n",
    "            if interest_state.lower() == state['state'].lower():\n",
    "                print(\"Population of \" + state['state'] + \": \" + str(state['population']))\n",
    "                found = True\n",
    "                break\n",
    "        \n",
    "        if not found:\n",
    "            print(\"{} is not found in the data.\".format(interest_state))\n",
    "            \n",
    "except Exception as e:\n",
    "    print(\"Failed to retrieve data.\")\n"
   ]
  }
 ],
 "metadata": {
  "kernelspec": {
   "display_name": "Python 3 (ipykernel)",
   "language": "python",
   "name": "python3"
  },
  "language_info": {
   "codemirror_mode": {
    "name": "ipython",
    "version": 3
   },
   "file_extension": ".py",
   "mimetype": "text/x-python",
   "name": "python",
   "nbconvert_exporter": "python",
   "pygments_lexer": "ipython3",
   "version": "3.11.5"
  }
 },
 "nbformat": 4,
 "nbformat_minor": 5
}
