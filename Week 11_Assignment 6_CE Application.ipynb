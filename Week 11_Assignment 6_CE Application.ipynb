{
 "cells": [
  {
   "cell_type": "markdown",
   "id": "f9ae09f7",
   "metadata": {},
   "source": [
    "# LMTD correction factor method"
   ]
  },
  {
   "cell_type": "markdown",
   "id": "e4f72935",
   "metadata": {},
   "source": [
    "The simplest method, the log-mean temperature difference correction factor method, is as follows:\n",
    "\n",
    "Q=U*A*ΔTLM*Ft\n",
    "\n",
    "Considering in a heat exchanger, inlet temperature of cold fluid, Tci=15°C and hot fluid, Thi=130°C whereas outlet temperature of cold fluid, Tco=85°C and hot fluid, Tho=110°C. Rate of heat flow in this heat exchanger is 1MW.\n",
    "\n",
    "Calculate ΔTLM."
   ]
  },
  {
   "cell_type": "code",
   "execution_count": 23,
   "id": "0af5d583",
   "metadata": {},
   "outputs": [
    {
     "name": "stdout",
     "output_type": "stream",
     "text": [
      "^C\n"
     ]
    }
   ],
   "source": [
    "!pip install ht #installed a Python package named ht"
   ]
  },
  {
   "cell_type": "markdown",
   "id": "b1f24c9b",
   "metadata": {},
   "source": [
    "Knowing the outlet and inlet temperatures of a heat exchanger and Q, one could determine UA as follows:"
   ]
  },
  {
   "cell_type": "code",
   "execution_count": 2,
   "id": "fccf3b6f",
   "metadata": {},
   "outputs": [],
   "source": [
    "from ht.vectorized import LMTD, F_LMTD_Fakheri\n",
    "\n",
    "dTlm = LMTD(Tci=15, Tco=85, Thi=130, Tho=110)\n",
    "Ft = F_LMTD_Fakheri(Tci=15, Tco=85, Thi=130, Tho=110, shells=1)\n",
    "Q = 1E6  # 1 MW\n",
    "UA = Q / (dTlm * Ft)"
   ]
  },
  {
   "cell_type": "code",
   "execution_count": 31,
   "id": "cae7ddfb",
   "metadata": {},
   "outputs": [
    {
     "data": {
      "text/plain": [
       "array(0.94383588)"
      ]
     },
     "execution_count": 31,
     "metadata": {},
     "output_type": "execute_result"
    }
   ],
   "source": [
    "F_LMTD_Fakheri(Tci=15, Tco=85, Thi=130, Tho=110, shells=1)"
   ]
  },
  {
   "cell_type": "code",
   "execution_count": 33,
   "id": "d13de2ae",
   "metadata": {},
   "outputs": [
    {
     "data": {
      "text/plain": [
       "array(66.91519847)"
      ]
     },
     "execution_count": 33,
     "metadata": {},
     "output_type": "execute_result"
    }
   ],
   "source": [
    "LMTD(Thi=130, Tho=110, Tci=15, Tco=85)"
   ]
  },
  {
   "cell_type": "code",
   "execution_count": 34,
   "id": "c4042880",
   "metadata": {},
   "outputs": [
    {
     "data": {
      "text/plain": [
       "15833.566307803789"
      ]
     },
     "execution_count": 34,
     "metadata": {},
     "output_type": "execute_result"
    }
   ],
   "source": [
    "UA"
   ]
  },
  {
   "cell_type": "markdown",
   "id": "8f1185e2",
   "metadata": {},
   "source": [
    "Log mean temperature are available for both counterflow (by default) and co-current flow."
   ]
  },
  {
   "cell_type": "code",
   "execution_count": 3,
   "id": "bdf68fd4",
   "metadata": {},
   "outputs": [
    {
     "data": {
      "text/plain": [
       "array(66.91519847)"
      ]
     },
     "execution_count": 3,
     "metadata": {},
     "output_type": "execute_result"
    }
   ],
   "source": [
    "LMTD(Thi=130, Tho=110, Tci=15, Tco=85)"
   ]
  },
  {
   "cell_type": "code",
   "execution_count": 4,
   "id": "f9c1adab",
   "metadata": {},
   "outputs": [
    {
     "data": {
      "text/plain": [
       "array(58.97554356)"
      ]
     },
     "execution_count": 4,
     "metadata": {},
     "output_type": "execute_result"
    }
   ],
   "source": [
    "LMTD(130, 110, 15, 85, counterflow=False)"
   ]
  }
 ],
 "metadata": {
  "kernelspec": {
   "display_name": "Python 3 (ipykernel)",
   "language": "python",
   "name": "python3"
  },
  "language_info": {
   "codemirror_mode": {
    "name": "ipython",
    "version": 3
   },
   "file_extension": ".py",
   "mimetype": "text/x-python",
   "name": "python",
   "nbconvert_exporter": "python",
   "pygments_lexer": "ipython3",
   "version": "3.11.5"
  }
 },
 "nbformat": 4,
 "nbformat_minor": 5
}
