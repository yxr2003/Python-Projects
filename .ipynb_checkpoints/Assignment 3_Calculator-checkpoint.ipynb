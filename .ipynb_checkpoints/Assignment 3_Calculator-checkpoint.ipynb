{
 "cells": [
  {
   "cell_type": "code",
   "execution_count": 1,
   "id": "0e52e437",
   "metadata": {},
   "outputs": [
    {
     "name": "stdout",
     "output_type": "stream",
     "text": [
      "Enter 1st number: 1\n",
      "Enter 2nd number: 2\n",
      "Enter operation:addition\n",
      "The result is  3.0\n"
     ]
    }
   ],
   "source": [
    "def simple_calculator():\n",
    "    while True:\n",
    "        try:\n",
    "            a = float(input(\"Enter 1st number: \"))\n",
    "            b = float(input(\"Enter 2nd number: \"))\n",
    "            \n",
    "            operation = input(\"Enter operation:\")\n",
    "            \n",
    "            if operation == \"addition\":\n",
    "                result = a + b\n",
    "            elif operation == \"subtraction\":\n",
    "                result = a - b\n",
    "            elif operation == \"multiplication\":\n",
    "                result = a * b\n",
    "            elif operation == \"division\":\n",
    "                result = a / b\n",
    "            else:\n",
    "                print(\"Invalid operation. Please choose addition, subtraction, multiplication, or division.\")\n",
    "                continue\n",
    "                                \n",
    "            print(\"The result is \", result)\n",
    "            break\n",
    "        \n",
    "        except ValueError:\n",
    "            print(\"Invalid input. Please enter a number.\")\n",
    "        except ZeroDivisionError:\n",
    "            print(\"Cannot divide by zero.\")\n",
    "        except Exception as e:\n",
    "            print(\"Error:\", e)\n",
    "\n",
    "# Run the calculator\n",
    "simple_calculator()"
   ]
  },
  {
   "cell_type": "code",
   "execution_count": null,
   "id": "94ed91ea",
   "metadata": {},
   "outputs": [],
   "source": []
  }
 ],
 "metadata": {
  "kernelspec": {
   "display_name": "Python 3 (ipykernel)",
   "language": "python",
   "name": "python3"
  },
  "language_info": {
   "codemirror_mode": {
    "name": "ipython",
    "version": 3
   },
   "file_extension": ".py",
   "mimetype": "text/x-python",
   "name": "python",
   "nbconvert_exporter": "python",
   "pygments_lexer": "ipython3",
   "version": "3.11.5"
  }
 },
 "nbformat": 4,
 "nbformat_minor": 5
}
