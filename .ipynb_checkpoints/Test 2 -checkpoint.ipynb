{
 "cells": [
  {
   "cell_type": "markdown",
   "id": "2a16ebb8",
   "metadata": {},
   "source": [
    "# Question 1"
   ]
  },
  {
   "cell_type": "code",
   "execution_count": 32,
   "id": "196abffb",
   "metadata": {},
   "outputs": [],
   "source": [
    "import numpy as np\n",
    "import scipy as sc\n",
    "import matplotlib.pyplot as plt\n",
    "\n",
    "def dYdt (y,t):\n",
    "    dydt=-2*y*t\n",
    "    return dydt\n",
    "\n",
    "start=0\n",
    "end=2\n",
    "t=np.linspace(start,end,10)"
   ]
  },
  {
   "cell_type": "code",
   "execution_count": 33,
   "id": "8a612bd7",
   "metadata": {},
   "outputs": [],
   "source": [
    "y0=1\n",
    "\n",
    "Y=sc.integrate.odeint(dYdt,y0,t)"
   ]
  },
  {
   "cell_type": "code",
   "execution_count": 36,
   "id": "93e2e8b2",
   "metadata": {},
   "outputs": [
    {
     "data": {
      "text/plain": [
       "<function matplotlib.pyplot.show(close=None, block=None)>"
      ]
     },
     "execution_count": 36,
     "metadata": {},
     "output_type": "execute_result"
    },
    {
     "data": {
      "image/png": "[encoded data removed]",
      "text/plain": [
       "<Figure size 640x480 with 1 Axes>"
      ]
     },
     "metadata": {},
     "output_type": "display_data"
    }
   ],
   "source": [
    "plt. figure()\n",
    "plt.plot(t,Y,color='pink',label='dy/dt')\n",
    "plt.title('y(t) versus (t)')\n",
    "plt.xlabel('t')\n",
    "plt.ylabel('y')\n",
    "plt.show"
   ]
  },
  {
   "cell_type": "markdown",
   "id": "9bb1c41f",
   "metadata": {},
   "source": [
    "# Question 2"
   ]
  },
  {
   "cell_type": "code",
   "execution_count": 13,
   "id": "92387ead",
   "metadata": {},
   "outputs": [],
   "source": [
    "import numpy as np"
   ]
  },
  {
   "cell_type": "code",
   "execution_count": 14,
   "id": "30d24327",
   "metadata": {},
   "outputs": [],
   "source": [
    "A = np.array([[2, 4, 6], [5, 3, 2], [7, 8, 9]])"
   ]
  },
  {
   "cell_type": "code",
   "execution_count": 15,
   "id": "3410946f",
   "metadata": {},
   "outputs": [
    {
     "name": "stdout",
     "output_type": "stream",
     "text": [
      "[[2 4 6]\n",
      " [5 3 2]\n",
      " [7 8 9]]\n"
     ]
    }
   ],
   "source": [
    "print (A)"
   ]
  },
  {
   "cell_type": "code",
   "execution_count": 16,
   "id": "19247a9e",
   "metadata": {},
   "outputs": [],
   "source": [
    "b = np.array([[18], [13], [30]])"
   ]
  },
  {
   "cell_type": "code",
   "execution_count": 17,
   "id": "8a109628",
   "metadata": {},
   "outputs": [
    {
     "name": "stdout",
     "output_type": "stream",
     "text": [
      "[[18]\n",
      " [13]\n",
      " [30]]\n"
     ]
    }
   ],
   "source": [
    "print (b)"
   ]
  },
  {
   "cell_type": "code",
   "execution_count": 19,
   "id": "643c9ae3",
   "metadata": {},
   "outputs": [],
   "source": [
    "C = sc.linalg.solve(A, b)"
   ]
  },
  {
   "cell_type": "code",
   "execution_count": 20,
   "id": "d11caec6",
   "metadata": {},
   "outputs": [
    {
     "name": "stdout",
     "output_type": "stream",
     "text": [
      "[[ 4.5]\n",
      " [-7.5]\n",
      " [ 6.5]]\n"
     ]
    }
   ],
   "source": [
    "print (C)"
   ]
  },
  {
   "cell_type": "markdown",
   "id": "38b9525f",
   "metadata": {},
   "source": [
    "# Question 3"
   ]
  },
  {
   "cell_type": "code",
   "execution_count": 48,
   "id": "d65bb64d",
   "metadata": {},
   "outputs": [
    {
     "name": "stdout",
     "output_type": "stream",
     "text": [
      "Enter the number of days for the forecast (1 to 16):4\n"
     ]
    },
    {
     "ename": "AttributeError",
     "evalue": "'list' object has no attribute 'keys'",
     "output_type": "error",
     "traceback": [
      "\u001b[1;31m---------------------------------------------------------------------------\u001b[0m",
      "\u001b[1;31mAttributeError\u001b[0m                            Traceback (most recent call last)",
      "Cell \u001b[1;32mIn[48], line 41\u001b[0m\n\u001b[0;32m     38\u001b[0m     plot_temperature_trend(hourly_data)\n\u001b[0;32m     40\u001b[0m \u001b[38;5;28;01mif\u001b[39;00m \u001b[38;5;18m__name__\u001b[39m \u001b[38;5;241m==\u001b[39m \u001b[38;5;124m\"\u001b[39m\u001b[38;5;124m__main__\u001b[39m\u001b[38;5;124m\"\u001b[39m:\n\u001b[1;32m---> 41\u001b[0m     main()\n",
      "Cell \u001b[1;32mIn[48], line 38\u001b[0m, in \u001b[0;36mmain\u001b[1;34m()\u001b[0m\n\u001b[0;32m     35\u001b[0m         \u001b[38;5;28mprint\u001b[39m(\u001b[38;5;124m\"\u001b[39m\u001b[38;5;124mPlease enter a valid number.\u001b[39m\u001b[38;5;124m\"\u001b[39m)\n\u001b[0;32m     37\u001b[0m hourly_data \u001b[38;5;241m=\u001b[39m get_weather_forecast(latitude, longitude, days)\n\u001b[1;32m---> 38\u001b[0m plot_temperature_trend(hourly_data)\n",
      "Cell \u001b[1;32mIn[48], line 11\u001b[0m, in \u001b[0;36mplot_temperature_trend\u001b[1;34m(hourly_data)\u001b[0m\n\u001b[0;32m     10\u001b[0m \u001b[38;5;28;01mdef\u001b[39;00m \u001b[38;5;21mplot_temperature_trend\u001b[39m(hourly_data):\n\u001b[1;32m---> 11\u001b[0m     timetamps \u001b[38;5;241m=\u001b[39m hourly_data\u001b[38;5;241m.\u001b[39mkeys()\n\u001b[0;32m     12\u001b[0m     temperatures \u001b[38;5;241m=\u001b[39m hourly_data\u001b[38;5;241m.\u001b[39mvalues()\n\u001b[0;32m     14\u001b[0m     plt\u001b[38;5;241m.\u001b[39mplot(hours, temperatures, marker\u001b[38;5;241m=\u001b[39m\u001b[38;5;124m'\u001b[39m\u001b[38;5;124mo\u001b[39m\u001b[38;5;124m'\u001b[39m)\n",
      "\u001b[1;31mAttributeError\u001b[0m: 'list' object has no attribute 'keys'"
     ]
    }
   ],
   "source": [
    "import requests\n",
    "import matplotlib.pyplot as plt\n",
    "\n",
    "def get_weather_forecast(latitude, longitude, days):\n",
    "    api_endpoint = f\"https://api.open-meteo.com/v1/forecast?latitude=2.5&longitude=112.5&hourly=temperature_2m&timezone=Asia%2FSingapore&forecast_days=1\"\n",
    "    response = requests.get(api_endpoint)\n",
    "    data = response.json()\n",
    "    return data ['hourly']['temperature_2m']\n",
    "\n",
    "def plot_temperature_trend(hourly_data):\n",
    "    timetamps = hourly_data.keys()\n",
    "    temperatures = hourly_data.values()\n",
    "    \n",
    "    plt.plot(hours, temperatures, marker='o')\n",
    "    plt.title('Hourly Temperature Trend')\n",
    "    plt.xlabel('Time')\n",
    "    plt.ylabel('Temperature')\n",
    "    plt.grid (True)\n",
    "    plt.xticks(rotation=45)\n",
    "    plt.tight_layout()\n",
    "    plt.show()\n",
    "    \n",
    "def main():\n",
    "    latitude = 2.5\n",
    "    longitude = 112.5\n",
    "    \n",
    "    while True:\n",
    "        try:\n",
    "            days = int(input(\"Enter the number of days for the forecast (1 to 16):\"))\n",
    "            if 1 <= days <= 16:\n",
    "                break\n",
    "            else:\n",
    "                print(\"Please enter a valid number between 1 and 16.\")\n",
    "        except ValueError:\n",
    "            print(\"Please enter a valid number.\")\n",
    "            \n",
    "    hourly_data = get_weather_forecast(latitude, longitude, days)\n",
    "    plot_temperature_trend(hourly_data)\n",
    "    \n",
    "if __name__ == \"__main__\":\n",
    "    main()"
   ]
  },
  {
   "cell_type": "code",
   "execution_count": 47,
   "id": "279539be",
   "metadata": {},
   "outputs": [
    {
     "ename": "IndentationError",
     "evalue": "unexpected indent (1232849092.py, line 2)",
     "output_type": "error",
     "traceback": [
      "\u001b[1;36m  Cell \u001b[1;32mIn[47], line 2\u001b[1;36m\u001b[0m\n\u001b[1;33m    plt.title('Hourly Temperature Trend')\u001b[0m\n\u001b[1;37m    ^\u001b[0m\n\u001b[1;31mIndentationError\u001b[0m\u001b[1;31m:\u001b[0m unexpected indent\n"
     ]
    }
   ],
   "source": [
    " plt.plot(hours, temperatures, marker='o')\n",
    "    plt.title('Hourly Temperature Trend')\n",
    "    plt.xlabel('Time')\n",
    "    plt.ylabel('Temperature')\n",
    "    plt.grid (True)\n",
    "    plt.xticks(rotation=45)\n",
    "    plt.tight_layout()\n",
    "    plt.show()"
   ]
  },
  {
   "cell_type": "code",
   "execution_count": 55,
   "id": "3892c9dd",
   "metadata": {},
   "outputs": [
    {
     "name": "stdout",
     "output_type": "stream",
     "text": [
      "^C\n",
      "Note: you may need to restart the kernel to use updated packages.\n"
     ]
    }
   ],
   "source": [
    "pip install requests matplotlib"
   ]
  },
  {
   "cell_type": "code",
   "execution_count": 56,
   "id": "66977b05",
   "metadata": {},
   "outputs": [
    {
     "name": "stdout",
     "output_type": "stream",
     "text": [
      "Requirement already satisfied: requests in c:\\users\\yeo xuan ru\\anaconda3\\lib\\site-packages (2.31.0)\n",
      "Requirement already satisfied: matplotlib in c:\\users\\yeo xuan ru\\anaconda3\\lib\\site-packages (3.7.2)\n",
      "Requirement already satisfied: charset-normalizer<4,>=2 in c:\\users\\yeo xuan ru\\anaconda3\\lib\\site-packages (from requests) (2.0.4)\n",
      "Requirement already satisfied: idna<4,>=2.5 in c:\\users\\yeo xuan ru\\anaconda3\\lib\\site-packages (from requests) (3.4)\n",
      "Requirement already satisfied: urllib3<3,>=1.21.1 in c:\\users\\yeo xuan ru\\anaconda3\\lib\\site-packages (from requests) (1.26.16)\n",
      "Requirement already satisfied: certifi>=2017.4.17 in c:\\users\\yeo xuan ru\\anaconda3\\lib\\site-packages (from requests) (2023.7.22)\n",
      "Requirement already satisfied: contourpy>=1.0.1 in c:\\users\\yeo xuan ru\\anaconda3\\lib\\site-packages (from matplotlib) (1.0.5)\n",
      "Requirement already satisfied: cycler>=0.10 in c:\\users\\yeo xuan ru\\anaconda3\\lib\\site-packages (from matplotlib) (0.11.0)\n",
      "Requirement already satisfied: fonttools>=4.22.0 in c:\\users\\yeo xuan ru\\anaconda3\\lib\\site-packages (from matplotlib) (4.25.0)\n",
      "Requirement already satisfied: kiwisolver>=1.0.1 in c:\\users\\yeo xuan ru\\anaconda3\\lib\\site-packages (from matplotlib) (1.4.4)\n",
      "Requirement already satisfied: numpy>=1.20 in c:\\users\\yeo xuan ru\\anaconda3\\lib\\site-packages (from matplotlib) (1.24.3)\n",
      "Requirement already satisfied: packaging>=20.0 in c:\\users\\yeo xuan ru\\anaconda3\\lib\\site-packages (from matplotlib) (23.1)\n",
      "Requirement already satisfied: pillow>=6.2.0 in c:\\users\\yeo xuan ru\\anaconda3\\lib\\site-packages (from matplotlib) (9.4.0)\n",
      "Requirement already satisfied: pyparsing<3.1,>=2.3.1 in c:\\users\\yeo xuan ru\\anaconda3\\lib\\site-packages (from matplotlib) (3.0.9)\n",
      "Requirement already satisfied: python-dateutil>=2.7 in c:\\users\\yeo xuan ru\\anaconda3\\lib\\site-packages (from matplotlib) (2.8.2)\n",
      "Requirement already satisfied: six>=1.5 in c:\\users\\yeo xuan ru\\anaconda3\\lib\\site-packages (from python-dateutil>=2.7->matplotlib) (1.16.0)\n",
      "Enter the number of days for the forecast (1 to 16):4\n"
     ]
    },
    {
     "ename": "TypeError",
     "evalue": "'float' object is not subscriptable",
     "output_type": "error",
     "traceback": [
      "\u001b[1;31m---------------------------------------------------------------------------\u001b[0m",
      "\u001b[1;31mTypeError\u001b[0m                                 Traceback (most recent call last)",
      "Cell \u001b[1;32mIn[56], line 41\u001b[0m\n\u001b[0;32m     38\u001b[0m     plot_temperature_trend(hourly_data)\n\u001b[0;32m     40\u001b[0m \u001b[38;5;28;01mif\u001b[39;00m \u001b[38;5;18m__name__\u001b[39m \u001b[38;5;241m==\u001b[39m \u001b[38;5;124m\"\u001b[39m\u001b[38;5;124m__main__\u001b[39m\u001b[38;5;124m\"\u001b[39m:\n\u001b[1;32m---> 41\u001b[0m     main()\n",
      "Cell \u001b[1;32mIn[56], line 38\u001b[0m, in \u001b[0;36mmain\u001b[1;34m()\u001b[0m\n\u001b[0;32m     35\u001b[0m         \u001b[38;5;28mprint\u001b[39m(\u001b[38;5;124m\"\u001b[39m\u001b[38;5;124mPlease enter a valid number.\u001b[39m\u001b[38;5;124m\"\u001b[39m)\n\u001b[0;32m     37\u001b[0m hourly_data \u001b[38;5;241m=\u001b[39m get_weather_forecast(latitude, longitude, days)\n\u001b[1;32m---> 38\u001b[0m plot_temperature_trend(hourly_data)\n",
      "Cell \u001b[1;32mIn[56], line 11\u001b[0m, in \u001b[0;36mplot_temperature_trend\u001b[1;34m(hourly_data)\u001b[0m\n\u001b[0;32m     10\u001b[0m \u001b[38;5;28;01mdef\u001b[39;00m \u001b[38;5;21mplot_temperature_trend\u001b[39m(hourly_data):\n\u001b[1;32m---> 11\u001b[0m     timetamps \u001b[38;5;241m=\u001b[39m [entry[\u001b[38;5;124m'\u001b[39m\u001b[38;5;124mtime\u001b[39m\u001b[38;5;124m'\u001b[39m] \u001b[38;5;28;01mfor\u001b[39;00m entry \u001b[38;5;129;01min\u001b[39;00m hourly_data]\n\u001b[0;32m     12\u001b[0m     temperatures \u001b[38;5;241m=\u001b[39m [entry[\u001b[38;5;124m'\u001b[39m\u001b[38;5;124mtemperature_2m\u001b[39m\u001b[38;5;124m'\u001b[39m] \u001b[38;5;28;01mfor\u001b[39;00m entry \u001b[38;5;129;01min\u001b[39;00m hourly_data]\n\u001b[0;32m     14\u001b[0m     plt\u001b[38;5;241m.\u001b[39mplot(timestamps, temperatures, marker\u001b[38;5;241m=\u001b[39m\u001b[38;5;124m'\u001b[39m\u001b[38;5;124mo\u001b[39m\u001b[38;5;124m'\u001b[39m)\n",
      "Cell \u001b[1;32mIn[56], line 11\u001b[0m, in \u001b[0;36m<listcomp>\u001b[1;34m(.0)\u001b[0m\n\u001b[0;32m     10\u001b[0m \u001b[38;5;28;01mdef\u001b[39;00m \u001b[38;5;21mplot_temperature_trend\u001b[39m(hourly_data):\n\u001b[1;32m---> 11\u001b[0m     timetamps \u001b[38;5;241m=\u001b[39m [entry[\u001b[38;5;124m'\u001b[39m\u001b[38;5;124mtime\u001b[39m\u001b[38;5;124m'\u001b[39m] \u001b[38;5;28;01mfor\u001b[39;00m entry \u001b[38;5;129;01min\u001b[39;00m hourly_data]\n\u001b[0;32m     12\u001b[0m     temperatures \u001b[38;5;241m=\u001b[39m [entry[\u001b[38;5;124m'\u001b[39m\u001b[38;5;124mtemperature_2m\u001b[39m\u001b[38;5;124m'\u001b[39m] \u001b[38;5;28;01mfor\u001b[39;00m entry \u001b[38;5;129;01min\u001b[39;00m hourly_data]\n\u001b[0;32m     14\u001b[0m     plt\u001b[38;5;241m.\u001b[39mplot(timestamps, temperatures, marker\u001b[38;5;241m=\u001b[39m\u001b[38;5;124m'\u001b[39m\u001b[38;5;124mo\u001b[39m\u001b[38;5;124m'\u001b[39m)\n",
      "\u001b[1;31mTypeError\u001b[0m: 'float' object is not subscriptable"
     ]
    }
   ],
   "source": [
    "import requests\n",
    "import matplotlib.pyplot as plt\n",
    "\n",
    "def get_weather_forecast(latitude, longitude, days):\n",
    "    api_endpoint = f\"https://api.open-meteo.com/v1/forecast?latitude=2.5&longitude=112.5&hourly=temperature_2m&timezone=Asia%2FSingapore&forecast_days=1\"\n",
    "    response = requests.get(api_endpoint)\n",
    "    data = response.json()\n",
    "    return data ['hourly']['temperature_2m']\n",
    "    \n",
    "def plot_temperature_trend(hourly_data):\n",
    "    timetamps = [entry['time'] for entry in hourly_data]\n",
    "    temperatures = [entry['temperature_2m'] for entry in hourly_data]\n",
    "    \n",
    "    plt.plot(timestamps, temperatures, marker='o')\n",
    "    plt.title('Hourly Temperature Trend')\n",
    "    plt.xlabel('Timestamp')\n",
    "    plt.ylabel('Temperature')\n",
    "    plt.grid (True)\n",
    "    plt.xticks(rotation=45)\n",
    "    plt.tight_layout()\n",
    "    plt.show()    \n",
    "    \n",
    "def main():\n",
    "    latitude = 2.5\n",
    "    longitude = 112.5\n",
    "    \n",
    "    while True:\n",
    "        try:\n",
    "            days = int(input(\"Enter the number of days for the forecast (1 to 16):\"))\n",
    "            if 1 <= days <= 16:\n",
    "                break\n",
    "            else:\n",
    "                print(\"Please enter a valid number between 1 and 16.\")\n",
    "        except ValueError:\n",
    "            print(\"Please enter a valid number.\")\n",
    "            \n",
    "    hourly_data = get_weather_forecast(latitude, longitude, days)\n",
    "    plot_temperature_trend(hourly_data)\n",
    "    \n",
    "if __name__ == \"__main__\":\n",
    "    main()"
   ]
  },
  {
   "cell_type": "code",
   "execution_count": null,
   "id": "b3e4f04e",
   "metadata": {},
   "outputs": [],
   "source": []
  }
 ],
 "metadata": {
  "kernelspec": {
   "display_name": "Python 3 (ipykernel)",
   "language": "python",
   "name": "python3"
  },
  "language_info": {
   "codemirror_mode": {
    "name": "ipython",
    "version": 3
   },
   "file_extension": ".py",
   "mimetype": "text/x-python",
   "name": "python",
   "nbconvert_exporter": "python",
   "pygments_lexer": "ipython3",
   "version": "3.11.5"
  }
 },
 "nbformat": 4,
 "nbformat_minor": 5
}
