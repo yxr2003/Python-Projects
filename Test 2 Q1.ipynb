{
 "cells": [
  {
   "cell_type": "code",
   "execution_count": 4,
   "id": "5f7a32a0",
   "metadata": {},
   "outputs": [
    {
     "name": "stdout",
     "output_type": "stream",
     "text": [
      "Enter the number of days for the forecast (1 to 16):4\n"
     ]
    },
    {
     "ename": "AttributeError",
     "evalue": "'list' object has no attribute 'keys'",
     "output_type": "error",
     "traceback": [
      "\u001b[1;31m---------------------------------------------------------------------------\u001b[0m",
      "\u001b[1;31mAttributeError\u001b[0m                            Traceback (most recent call last)",
      "Cell \u001b[1;32mIn[4], line 41\u001b[0m\n\u001b[0;32m     38\u001b[0m   plot_temperature_trend(hourly_data)\n\u001b[0;32m     40\u001b[0m \u001b[38;5;28;01mif\u001b[39;00m \u001b[38;5;18m__name__\u001b[39m \u001b[38;5;241m==\u001b[39m \u001b[38;5;124m\"\u001b[39m\u001b[38;5;124m__main__\u001b[39m\u001b[38;5;124m\"\u001b[39m:\n\u001b[1;32m---> 41\u001b[0m   main()\n",
      "Cell \u001b[1;32mIn[4], line 38\u001b[0m, in \u001b[0;36mmain\u001b[1;34m()\u001b[0m\n\u001b[0;32m     35\u001b[0m         \u001b[38;5;28mprint\u001b[39m(\u001b[38;5;124m\"\u001b[39m\u001b[38;5;124mPlease enter a valid number.\u001b[39m\u001b[38;5;124m\"\u001b[39m)\n\u001b[0;32m     37\u001b[0m hourly_data \u001b[38;5;241m=\u001b[39m get_weather_forecast(latitude, longitude, days)\n\u001b[1;32m---> 38\u001b[0m plot_temperature_trend(hourly_data)\n",
      "Cell \u001b[1;32mIn[4], line 11\u001b[0m, in \u001b[0;36mplot_temperature_trend\u001b[1;34m(hourly_data)\u001b[0m\n\u001b[0;32m     10\u001b[0m \u001b[38;5;28;01mdef\u001b[39;00m \u001b[38;5;21mplot_temperature_trend\u001b[39m(hourly_data):\n\u001b[1;32m---> 11\u001b[0m   timetamps \u001b[38;5;241m=\u001b[39m hourly_data\u001b[38;5;241m.\u001b[39mkeys()\n\u001b[0;32m     12\u001b[0m   temperatures \u001b[38;5;241m=\u001b[39m hourly_data\u001b[38;5;241m.\u001b[39mvalues()\n\u001b[0;32m     14\u001b[0m   plt\u001b[38;5;241m.\u001b[39mplot(hours, temperatures, marker\u001b[38;5;241m=\u001b[39m\u001b[38;5;124m'\u001b[39m\u001b[38;5;124mo\u001b[39m\u001b[38;5;124m'\u001b[39m)\n",
      "\u001b[1;31mAttributeError\u001b[0m: 'list' object has no attribute 'keys'"
     ]
    }
   ],
   "source": [
    "  import requests\n",
    "import matplotlib.pyplot as plt\n",
    "\n",
    "def get_weather_forecast(latitude, longitude, days):\n",
    "    api_endpoint = f\"https://api.open-meteo.com/v1/forecast?latitude=2.5&longitude=112.5&hourly=temperature_2m&timezone=Asia%2FSingapore&forecast_days=1\"\n",
    "    response = requests.get(api_endpoint)\n",
    "    data = response.json()\n",
    "    return data ['hourly']['temperature_2m']\n",
    "\n",
    "def plot_temperature_trend(hourly_data):\n",
    "    timetamps = hourly_data.keys()\n",
    "    temperatures = hourly_data.values()\n",
    "    \n",
    "    plt.plot(hours, temperatures, marker='o')\n",
    "    plt.title('Hourly Temperature Trend')\n",
    "    plt.xlabel('Time')\n",
    "    plt.ylabel('Temperature')\n",
    "    plt.grid (True)\n",
    "    plt.xticks(rotation=45)\n",
    "    plt.tight_layout()\n",
    "    plt.show()\n",
    "    \n",
    "def main():\n",
    "    latitude = 2.5\n",
    "    longitude = 112.5\n",
    "    \n",
    "    while True:\n",
    "        try:\n",
    "            days = int(input(\"Enter the number of days for the forecast (1 to 16):\"))\n",
    "            if 1 <= days <= 16:\n",
    "                break\n",
    "            else:\n",
    "                print(\"Please enter a valid number between 1 and 16.\")\n",
    "        except ValueError:\n",
    "            print(\"Please enter a valid number.\")\n",
    "            \n",
    "    hourly_data = get_weather_forecast(latitude, longitude, days)\n",
    "    plot_temperature_trend(hourly_data)\n",
    "    \n",
    "if __name__ == \"__main__\":\n",
    "    main()  "
   ]
  },
  {
   "cell_type": "code",
   "execution_count": 5,
   "id": "ddb039e5",
   "metadata": {},
   "outputs": [
    {
     "name": "stdout",
     "output_type": "stream",
     "text": [
      "Requirement already satisfied: requests in c:\\users\\yeo xuan ru\\anaconda3\\lib\\site-packages (2.31.0)\n",
      "Requirement already satisfied: matplotlib in c:\\users\\yeo xuan ru\\anaconda3\\lib\\site-packages (3.7.2)\n",
      "Requirement already satisfied: charset-normalizer<4,>=2 in c:\\users\\yeo xuan ru\\anaconda3\\lib\\site-packages (from requests) (2.0.4)\n",
      "Requirement already satisfied: idna<4,>=2.5 in c:\\users\\yeo xuan ru\\anaconda3\\lib\\site-packages (from requests) (3.4)\n",
      "Requirement already satisfied: urllib3<3,>=1.21.1 in c:\\users\\yeo xuan ru\\anaconda3\\lib\\site-packages (from requests) (1.26.16)\n",
      "Requirement already satisfied: certifi>=2017.4.17 in c:\\users\\yeo xuan ru\\anaconda3\\lib\\site-packages (from requests) (2023.7.22)\n",
      "Requirement already satisfied: contourpy>=1.0.1 in c:\\users\\yeo xuan ru\\anaconda3\\lib\\site-packages (from matplotlib) (1.0.5)\n",
      "Requirement already satisfied: cycler>=0.10 in c:\\users\\yeo xuan ru\\anaconda3\\lib\\site-packages (from matplotlib) (0.11.0)\n",
      "Requirement already satisfied: fonttools>=4.22.0 in c:\\users\\yeo xuan ru\\anaconda3\\lib\\site-packages (from matplotlib) (4.25.0)\n",
      "Requirement already satisfied: kiwisolver>=1.0.1 in c:\\users\\yeo xuan ru\\anaconda3\\lib\\site-packages (from matplotlib) (1.4.4)\n",
      "Requirement already satisfied: numpy>=1.20 in c:\\users\\yeo xuan ru\\anaconda3\\lib\\site-packages (from matplotlib) (1.24.3)\n",
      "Requirement already satisfied: packaging>=20.0 in c:\\users\\yeo xuan ru\\anaconda3\\lib\\site-packages (from matplotlib) (23.1)\n",
      "Requirement already satisfied: pillow>=6.2.0 in c:\\users\\yeo xuan ru\\anaconda3\\lib\\site-packages (from matplotlib) (9.4.0)\n",
      "Requirement already satisfied: pyparsing<3.1,>=2.3.1 in c:\\users\\yeo xuan ru\\anaconda3\\lib\\site-packages (from matplotlib) (3.0.9)\n",
      "Requirement already satisfied: python-dateutil>=2.7 in c:\\users\\yeo xuan ru\\anaconda3\\lib\\site-packages (from matplotlib) (2.8.2)\n",
      "Requirement already satisfied: six>=1.5 in c:\\users\\yeo xuan ru\\anaconda3\\lib\\site-packages (from python-dateutil>=2.7->matplotlib) (1.16.0)\n",
      "Note: you may need to restart the kernel to use updated packages.\n"
     ]
    }
   ],
   "source": [
    "pip install requests matplotlib"
   ]
  },
  {
   "cell_type": "code",
   "execution_count": null,
   "id": "1ee396b8",
   "metadata": {},
   "outputs": [],
   "source": []
  },
  {
   "cell_type": "code",
   "execution_count": null,
   "id": "ac5d72d7",
   "metadata": {},
   "outputs": [],
   "source": []
  },
  {
   "cell_type": "code",
   "execution_count": null,
   "id": "4df05706",
   "metadata": {},
   "outputs": [],
   "source": []
  }
 ],
 "metadata": {
  "kernelspec": {
   "display_name": "Python 3 (ipykernel)",
   "language": "python",
   "name": "python3"
  },
  "language_info": {
   "codemirror_mode": {
    "name": "ipython",
    "version": 3
   },
   "file_extension": ".py",
   "mimetype": "text/x-python",
   "name": "python",
   "nbconvert_exporter": "python",
   "pygments_lexer": "ipython3",
   "version": "3.11.5"
  }
 },
 "nbformat": 4,
 "nbformat_minor": 5
}
