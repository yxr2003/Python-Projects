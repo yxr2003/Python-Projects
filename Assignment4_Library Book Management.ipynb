{
 "cells": [
  {
   "cell_type": "markdown",
   "id": "d40c5a42",
   "metadata": {},
   "source": []
  },
  {
   "cell_type": "code",
   "execution_count": 2,
   "id": "55f7fb40",
   "metadata": {},
   "outputs": [
    {
     "name": "stdout",
     "output_type": "stream",
     "text": [
      "Checkout Processed by: Sarah Connor\n",
      "\n",
      "Books Checked Out:\n",
      "- 1984\n",
      "- Brave New World\n",
      "\n",
      "Checkout Duration: 3 weeks\n",
      "\n",
      "Additional Checkout Details:\n",
      "- Late Fee: $0.25\n",
      "- Renewals Allowed: 2\n",
      "\n",
      "Special Conditions for Checkout:\n",
      "- Handle with care\n"
     ]
    }
   ],
   "source": [
    "def checkout_books(librarian_name, *book_titles, duration='2 weeks', **kwargs):\n",
    "    print(\"Checkout Processed by: \"+librarian_name)\n",
    "    print(\"\\nBooks Checked Out:\")\n",
    "    for book in book_titles:\n",
    "        print(\"- \"+book)\n",
    "    print(\"\\nCheckout Duration: \"+duration)\n",
    "\n",
    "    if kwargs:\n",
    "        print(\"\\nAdditional Checkout Details:\") \n",
    "        for key, value in kwargs.items():\n",
    "            if key != \"special_conditions\":\n",
    "                print(f\"- {key.title().replace('_', ' ')}: {str(value)}\")\n",
    "            else:\n",
    "                continue \n",
    "                \n",
    "    special_conditions = kwargs.get('special_conditions')\n",
    "    if special_conditions:\n",
    "        print(\"\\nSpecial Conditions for Checkout:\")\n",
    "        print(f\"- {special_conditions}\")\n",
    "\n",
    "# Example usage:\n",
    "checkout_books('Sarah Connor', '1984', 'Brave New World', duration='3 weeks', late_fee='$0.25', renewals_allowed='2', special_conditions='Handle with care')"
   ]
  },
  {
   "cell_type": "code",
   "execution_count": 13,
   "id": "c9120e59",
   "metadata": {},
   "outputs": [
    {
     "name": "stdout",
     "output_type": "stream",
     "text": [
      "Checkout Processed by: Sarah Connor\n",
      "Books Checked Out:\n",
      "- 1984\n",
      "- Brave New World\n",
      "Checkout Duration: 3 weeks\n",
      "Additional Checkout Details:\n",
      "- Late Fee: $0.25 per day\n",
      "- Renewal Allowed: 2\n",
      "Special Conditions for Checkout\n",
      "- Handle with care\n"
     ]
    }
   ],
   "source": [
    "def checkout_books(librarian_name, *book_titles, duration='2 weeks', **kwargs):\n",
    "    print(\"Checkout Processed by: \" + librarian_name)\n",
    "    \n",
    "    print(\"Books Checked Out:\")\n",
    "    for book_title in book_titles:\n",
    "        print(\"- \" + book_title)\n",
    "        \n",
    "    print(\"Checkout Duration: \" + duration)\n",
    "    \n",
    "    if 'late_fee' in kwargs:\n",
    "        print(\"Additional Checkout Details:\")\n",
    "        print(f\"- Late Fee: ${kwargs['late_fee']} per day\")\n",
    "    if 'renewals_allowed' in kwargs:\n",
    "        print(f\"- Renewal Allowed: {kwargs['renewals_allowed']}\") \n",
    "    if 'special_conditions' in kwargs:\n",
    "        print(\"Special Conditions for Checkout\")\n",
    "        print(\"- \" + kwargs['special_conditions'])\n",
    "\n",
    "checkout_books(\"Sarah Connor\", \n",
    "               \"1984\", \n",
    "               \"Brave New World\", \n",
    "               duration=\"3 weeks\", \n",
    "               late_fee=0.25, \n",
    "               renewals_allowed=2, \n",
    "               special_conditions=\"Handle with care\")\n"
   ]
  },
  {
   "cell_type": "code",
   "execution_count": 16,
   "id": "0b6dd02b",
   "metadata": {},
   "outputs": [
    {
     "name": "stdout",
     "output_type": "stream",
     "text": [
      "Checkout Processed by: Sarah Connor\n",
      "Books Checked Out:\n",
      "- 1984\n",
      "- Brave New World\n",
      "Checkout Duration: 3 weeks\n",
      "Additional Checkout Details:\n",
      "- Late Fee: $0.25\n",
      "- Renewals Allowed: 2\n",
      "Special Conditions for Checkout:\n",
      "- Handle with care\n"
     ]
    }
   ],
   "source": [
    "def checkout_books(librarian_name, *book_titles, duration='2 weeks', **kwargs):\n",
    "    print(\"Checkout Processed by: \" + librarian_name)\n",
    "    \n",
    "    print(\"Books Checked Out:\")\n",
    "    for book_title in book_titles:\n",
    "        print(\"- \" + book_title)\n",
    "        \n",
    "    print(\"Checkout Duration: \" + duration)\n",
    "    \n",
    "    print(\"Additional Checkout Details:\")\n",
    "    \n",
    "    special_conditions = kwargs.pop('special_conditions', None)  \n",
    "    # Retrieve special conditions from kwargs\n",
    "    \n",
    "    for kwarg, value in kwargs.items():\n",
    "        if kwarg == 'late_fee':\n",
    "            print(\"- \" + kwarg.replace('_', ' ').title() + \": $\" + str(value))\n",
    "        elif kwarg == 'renewals_allowed':\n",
    "            print(\"- \" + kwarg.replace('_', ' ').title() + \": \" + str(value))\n",
    "        else:\n",
    "            print(\"- \" + kwarg.replace('_', ' ').title() + \": \" + str(value))\n",
    "    \n",
    "    if special_conditions:\n",
    "        print(\"Special Conditions for Checkout:\")\n",
    "        print(\"- \" + special_conditions)\n",
    "        \n",
    "checkout_books(\"Sarah Connor\", \"1984\", \"Brave New World\", duration=\"3 weeks\", late_fee=0.25, renewals_allowed=2, special_conditions=\"Handle with care\")"
   ]
  },
  {
   "cell_type": "code",
   "execution_count": null,
   "id": "b70c1d5b",
   "metadata": {},
   "outputs": [],
   "source": []
  }
 ],
 "metadata": {
  "kernelspec": {
   "display_name": "Python 3 (ipykernel)",
   "language": "python",
   "name": "python3"
  },
  "language_info": {
   "codemirror_mode": {
    "name": "ipython",
    "version": 3
   },
   "file_extension": ".py",
   "mimetype": "text/x-python",
   "name": "python",
   "nbconvert_exporter": "python",
   "pygments_lexer": "ipython3",
   "version": "3.11.5"
  }
 },
 "nbformat": 4,
 "nbformat_minor": 5
}
