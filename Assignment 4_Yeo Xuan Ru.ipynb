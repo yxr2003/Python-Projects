{
 "cells": [
  {
   "cell_type": "code",
   "execution_count": 1,
   "id": "33248d5a",
   "metadata": {},
   "outputs": [
    {
     "name": "stdout",
     "output_type": "stream",
     "text": [
      "Checkout Processed by: Sarah Connor\n",
      "Books Checked Out:\n",
      "- 1984\n",
      "- Brave New World\n",
      "Checkout Duration: 3 weeks\n",
      "Additional Checkout Details:\n",
      "- Late Fee: $0.25\n",
      "- Renewals Allowed: 2\n",
      "Special Conditions for Checkout:\n",
      "- Handle with care\n"
     ]
    }
   ],
   "source": [
    "def checkout_books(librarian_name, *book_titles, duration='2 weeks', **kwargs):\n",
    "    print(\"Checkout Processed by: \" + librarian_name)\n",
    "    \n",
    "    print(\"Books Checked Out:\")\n",
    "    for book_title in book_titles:\n",
    "        print(\"- \" + book_title)\n",
    "        \n",
    "    print(\"Checkout Duration: \" + duration)\n",
    "    \n",
    "    print(\"Additional Checkout Details:\")\n",
    "    \n",
    "    special_conditions = kwargs.pop('special_conditions', None)  \n",
    "    # Retrieve special conditions from kwargs\n",
    "    \n",
    "    for kwarg, value in kwargs.items():\n",
    "        if kwarg == 'late_fee':\n",
    "            print(\"- \" + kwarg.replace('_', ' ').title() + \": $\" + str(value))\n",
    "        elif kwarg == 'renewals_allowed':\n",
    "            print(\"- \" + kwarg.replace('_', ' ').title() + \": \" + str(value))\n",
    "        else:\n",
    "            print(\"- \" + kwarg.replace('_', ' ').title() + \": \" + str(value))\n",
    "    \n",
    "    if special_conditions:\n",
    "        print(\"Special Conditions for Checkout:\")\n",
    "        print(\"- \" + special_conditions)\n",
    "        \n",
    "checkout_books(\"Sarah Connor\", \"1984\", \"Brave New World\", duration=\"3 weeks\", late_fee=0.25, renewals_allowed=2, special_conditions=\"Handle with care\")"
   ]
  },
  {
   "cell_type": "code",
   "execution_count": null,
   "id": "165f883c",
   "metadata": {},
   "outputs": [],
   "source": []
  }
 ],
 "metadata": {
  "kernelspec": {
   "display_name": "Python 3 (ipykernel)",
   "language": "python",
   "name": "python3"
  },
  "language_info": {
   "codemirror_mode": {
    "name": "ipython",
    "version": 3
   },
   "file_extension": ".py",
   "mimetype": "text/x-python",
   "name": "python",
   "nbconvert_exporter": "python",
   "pygments_lexer": "ipython3",
   "version": "3.11.5"
  }
 },
 "nbformat": 4,
 "nbformat_minor": 5
}
